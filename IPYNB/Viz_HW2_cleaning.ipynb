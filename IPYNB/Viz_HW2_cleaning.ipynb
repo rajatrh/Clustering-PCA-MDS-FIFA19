{
  "nbformat": 4,
  "nbformat_minor": 0,
  "metadata": {
    "colab": {
      "name": "Viz_HW2.ipynb",
      "provenance": [],
      "toc_visible": true
    },
    "kernelspec": {
      "name": "python3",
      "display_name": "Python 3"
    }
  },
  "cells": [
    {
      "cell_type": "code",
      "metadata": {
        "id": "ZnblDBgq68N9",
        "colab_type": "code",
        "colab": {}
      },
      "source": [
        "import pandas as pd\n",
        "import matplotlib.pyplot as plt\n",
        "import numpy as np\n",
        "import seaborn as sb\n",
        "from dateutil import tz\n",
        "import math\n",
        "from sklearn import preprocessing"
      ],
      "execution_count": 0,
      "outputs": []
    },
    {
      "cell_type": "code",
      "metadata": {
        "id": "L8AmTv9LdQiF",
        "colab_type": "code",
        "colab": {}
      },
      "source": [
        "pd.set_option('display.max_columns', None)\n",
        "pd.set_option('display.max_rows', None)"
      ],
      "execution_count": 0,
      "outputs": []
    },
    {
      "cell_type": "code",
      "metadata": {
        "id": "XlOyr2UN66My",
        "colab_type": "code",
        "colab": {
          "base_uri": "https://localhost:8080/",
          "height": 122
        },
        "outputId": "90cdce5b-70c4-40b7-fc4d-a0da96d9b269"
      },
      "source": [
        "from google.colab import drive\n",
        "drive.mount('/content/drive')"
      ],
      "execution_count": 10,
      "outputs": [
        {
          "output_type": "stream",
          "text": [
            "Go to this URL in a browser: https://accounts.google.com/o/oauth2/auth?client_id=947318989803-6bn6qk8qdgf4n4g3pfee6491hc0brc4i.apps.googleusercontent.com&redirect_uri=urn%3aietf%3awg%3aoauth%3a2.0%3aoob&response_type=code&scope=email%20https%3a%2f%2fwww.googleapis.com%2fauth%2fdocs.test%20https%3a%2f%2fwww.googleapis.com%2fauth%2fdrive%20https%3a%2f%2fwww.googleapis.com%2fauth%2fdrive.photos.readonly%20https%3a%2f%2fwww.googleapis.com%2fauth%2fpeopleapi.readonly\n",
            "\n",
            "Enter your authorization code:\n",
            "··········\n",
            "Mounted at /content/drive\n"
          ],
          "name": "stdout"
        }
      ]
    },
    {
      "cell_type": "code",
      "metadata": {
        "id": "hfuJvWuY7cfM",
        "colab_type": "code",
        "colab": {}
      },
      "source": [
        "df_cars_spec = pd.read_csv('/content/drive/My Drive/Visualization/fullspecs.csv', index_col=0, header=None).T"
      ],
      "execution_count": 0,
      "outputs": []
    },
    {
      "cell_type": "code",
      "metadata": {
        "id": "5A9WndT7Inob",
        "colab_type": "code",
        "colab": {}
      },
      "source": [
        "df_cars_spec.head(1)"
      ],
      "execution_count": 0,
      "outputs": []
    },
    {
      "cell_type": "code",
      "metadata": {
        "id": "TDZ6NWkaIx04",
        "colab_type": "code",
        "colab": {}
      },
      "source": [
        "df_cars_spec.rename(columns={ df_cars_spec.columns[1]: \"MRSP\" }, inplace = True)"
      ],
      "execution_count": 0,
      "outputs": []
    },
    {
      "cell_type": "code",
      "metadata": {
        "id": "bP8Wty-yIpPM",
        "colab_type": "code",
        "colab": {}
      },
      "source": [
        "df_cars_spec.rename(columns={ df_cars_spec.columns[0]: \"Car\" }, inplace = True)"
      ],
      "execution_count": 0,
      "outputs": []
    },
    {
      "cell_type": "code",
      "metadata": {
        "id": "v-ubCRr1Q8sm",
        "colab_type": "code",
        "colab": {}
      },
      "source": [
        "pd.options.display.max_rows = 300"
      ],
      "execution_count": 0,
      "outputs": []
    },
    {
      "cell_type": "code",
      "metadata": {
        "id": "aIJYl_RLQkK7",
        "colab_type": "code",
        "colab": {}
      },
      "source": [
        "round(df_cars_spec.isnull().mean()*100,2).sort_values()"
      ],
      "execution_count": 0,
      "outputs": []
    },
    {
      "cell_type": "code",
      "metadata": {
        "id": "mYcBimsARDyP",
        "colab_type": "code",
        "colab": {}
      },
      "source": [
        "df_cleaned_car_spec = df_cars_spec.loc[:, df_cars_spec.isna().mean() < .5]"
      ],
      "execution_count": 0,
      "outputs": []
    },
    {
      "cell_type": "code",
      "metadata": {
        "id": "8896ADoPRvLz",
        "colab_type": "code",
        "colab": {
          "base_uri": "https://localhost:8080/",
          "height": 34
        },
        "outputId": "f1a840f5-5fce-4107-e91a-49b2dc14764d"
      },
      "source": [
        "df_cleaned_car_spec.shape"
      ],
      "execution_count": 41,
      "outputs": [
        {
          "output_type": "execute_result",
          "data": {
            "text/plain": [
              "(32316, 105)"
            ]
          },
          "metadata": {
            "tags": []
          },
          "execution_count": 41
        }
      ]
    },
    {
      "cell_type": "code",
      "metadata": {
        "id": "ffuqX5fIS_0U",
        "colab_type": "code",
        "colab": {}
      },
      "source": [
        "round(df_cleaned_car_spec.isnull().mean()*100,2).sort_values()"
      ],
      "execution_count": 0,
      "outputs": []
    },
    {
      "cell_type": "code",
      "metadata": {
        "id": "wMfO4fISRaPm",
        "colab_type": "code",
        "colab": {}
      },
      "source": [
        "df_cleaned_car_spec = df_cleaned_car_spec.dropna(thresh=30)"
      ],
      "execution_count": 0,
      "outputs": []
    },
    {
      "cell_type": "code",
      "metadata": {
        "id": "YYyDtNn_ToGH",
        "colab_type": "code",
        "colab": {}
      },
      "source": [
        "df_cleaned_car_spec.head(10)"
      ],
      "execution_count": 0,
      "outputs": []
    },
    {
      "cell_type": "code",
      "metadata": {
        "id": "kp4Q2RwWTz1_",
        "colab_type": "code",
        "colab": {
          "base_uri": "https://localhost:8080/",
          "height": 119
        },
        "outputId": "9ccfee7c-6c7b-493e-c058-d293b45a0ed4"
      },
      "source": [
        "df_cleaned_car_spec['Gas Mileage'].head(5)"
      ],
      "execution_count": 77,
      "outputs": [
        {
          "output_type": "execute_result",
          "data": {
            "text/plain": [
              "1    22 mpg City/28 mpg Hwy\n",
              "2    22 mpg City/28 mpg Hwy\n",
              "3    22 mpg City/27 mpg Hwy\n",
              "4    22 mpg City/28 mpg Hwy\n",
              "5    21 mpg City/27 mpg Hwy\n",
              "Name: Gas Mileage, dtype: object"
            ]
          },
          "metadata": {
            "tags": []
          },
          "execution_count": 77
        }
      ]
    },
    {
      "cell_type": "code",
      "metadata": {
        "id": "Wsu-byj0T-tX",
        "colab_type": "code",
        "colab": {}
      },
      "source": [
        "df_cleaned_car_spec[['City Mileage','Highway Mileage']] = df_cleaned_car_spec['Gas Mileage'].str.split(\"/\",expand=True,)"
      ],
      "execution_count": 0,
      "outputs": []
    },
    {
      "cell_type": "code",
      "metadata": {
        "id": "m_YvX77rTpQm",
        "colab_type": "code",
        "colab": {}
      },
      "source": [
        "df_cleaned_car_spec['Highway Mileage'] = df_cleaned_car_spec['Highway Mileage'].apply(lambda x: float(x.split(' ')[0]))"
      ],
      "execution_count": 0,
      "outputs": []
    },
    {
      "cell_type": "code",
      "metadata": {
        "id": "TTs6UUY7W3V4",
        "colab_type": "code",
        "colab": {}
      },
      "source": [
        "df_cleaned_car_spec['Highway Mileage'].value_counts()"
      ],
      "execution_count": 0,
      "outputs": []
    },
    {
      "cell_type": "code",
      "metadata": {
        "id": "QHFTcnHYW7dw",
        "colab_type": "code",
        "colab": {}
      },
      "source": [
        "df_cleaned_car_spec = df_cleaned_car_spec.dropna(axis=0, subset=['SAE Net Torque @ RPM'])"
      ],
      "execution_count": 0,
      "outputs": []
    },
    {
      "cell_type": "code",
      "metadata": {
        "id": "b2WrjkecW6B3",
        "colab_type": "code",
        "colab": {}
      },
      "source": [
        "del df_cleaned_car_spec['Car']"
      ],
      "execution_count": 0,
      "outputs": []
    },
    {
      "cell_type": "code",
      "metadata": {
        "id": "QYiTY-ugefI8",
        "colab_type": "code",
        "colab": {}
      },
      "source": [
        "df_cleaned_car_spec['Passenger Doors'] = df_cleaned_car_spec['Passenger Doors'].astype(int)"
      ],
      "execution_count": 0,
      "outputs": []
    },
    {
      "cell_type": "code",
      "metadata": {
        "id": "i1RnKZ2AakdO",
        "colab_type": "code",
        "colab": {}
      },
      "source": [
        "\n",
        "df_cleaned_car_spec= df_cleaned_car_spec[(df_cleaned_car_spec['Engine Displacement']!=\"6.2l\")]"
      ],
      "execution_count": 0,
      "outputs": []
    },
    {
      "cell_type": "code",
      "metadata": {
        "id": "-XrOfXz0X2t4",
        "colab_type": "code",
        "colab": {}
      },
      "source": [
        "df_cleaned_car_spec['Engine Displacement'] = df_cleaned_car_spec['Engine Displacement'].str.replace(' ', '')\n",
        "df_cleaned_car_spec['Engine Displacement'] = df_cleaned_car_spec['Engine Displacement'].str.replace(''', '')"
      ],
      "execution_count": 0,
      "outputs": []
    },
    {
      "cell_type": "code",
      "metadata": {
        "id": "45x7hMPLaUoV",
        "colab_type": "code",
        "colab": {}
      },
      "source": [
        "df_cleaned_car_spec['Engine Displacement'] = df_cleaned_car_spec['Engine Displacement'].astype(float)"
      ],
      "execution_count": 0,
      "outputs": []
    },
    {
      "cell_type": "code",
      "metadata": {
        "id": "ioF4tlnhYxhG",
        "colab_type": "code",
        "colab": {}
      },
      "source": [
        "df_cleaned_car_spec[['Engine Fuel Type','Engine Displacement']] = df_cleaned_car_spec['Engine'].str.split(\",\",expand=True,)"
      ],
      "execution_count": 0,
      "outputs": []
    },
    {
      "cell_type": "code",
      "metadata": {
        "id": "g6gR0bZDdBDC",
        "colab_type": "code",
        "colab": {}
      },
      "source": [
        "df_cleaned_car_spec['Drivetrain'] = df_cleaned_car_spec['Drivetrain'].apply(lambda x: x.lower())"
      ],
      "execution_count": 0,
      "outputs": []
    },
    {
      "cell_type": "code",
      "metadata": {
        "id": "eUcJLGNOdPYs",
        "colab_type": "code",
        "colab": {}
      },
      "source": [
        "df_cleaned_car_spec['Drivetrain'] = df_cleaned_car_spec['Drivetrain'].str.replace('-', ' ')"
      ],
      "execution_count": 0,
      "outputs": []
    },
    {
      "cell_type": "code",
      "metadata": {
        "id": "ARXeC7yIeKKX",
        "colab_type": "code",
        "colab": {}
      },
      "source": [
        "wheelDriveMapping = {'front wheel drive' : 0, 'rear wheel drive' : 1, 'all wheel drive' : 2,'4 wheel drive' : 2,'four wheel drive' : 2, 'awd': 2,\n",
        "'2 wheel drive' : 0, '4wd' : 2, '2wd' : 0,'rwd' : 1}\n",
        "df_cleaned_car_spec['Drivetrain'] = df_cleaned_car_spec['Drivetrain'].apply(lambda x: wheelDriveMapping[x])"
      ],
      "execution_count": 0,
      "outputs": []
    },
    {
      "cell_type": "code",
      "metadata": {
        "id": "yXHwyGtngo6w",
        "colab_type": "code",
        "colab": {}
      },
      "source": [
        "import re\n",
        "transmission = []    \n",
        "for values in df_cleaned_car_spec['Transmission']:\n",
        "  res = re.search(\"[0-9]-[sS]peed \", values)\n",
        "  if res is None:\n",
        "    transmission.append('5-Speed ')\n",
        "  if res is not None:\n",
        "    transmission.append(res.group())"
      ],
      "execution_count": 0,
      "outputs": []
    },
    {
      "cell_type": "code",
      "metadata": {
        "id": "-GoDv26ohzaS",
        "colab_type": "code",
        "colab": {
          "base_uri": "https://localhost:8080/",
          "height": 68
        },
        "outputId": "c796d0bd-e1bd-44ce-8198-2bbd798802a8"
      },
      "source": [
        "df_cleaned_car_spec['SAE Net Torque @ RPM'].isna().value_counts()"
      ],
      "execution_count": 227,
      "outputs": [
        {
          "output_type": "execute_result",
          "data": {
            "text/plain": [
              "False    24256\n",
              "True         2\n",
              "Name: SAE Net Torque @ RPM, dtype: int64"
            ]
          },
          "metadata": {
            "tags": []
          },
          "execution_count": 227
        }
      ]
    },
    {
      "cell_type": "code",
      "metadata": {
        "id": "0lQFaj0DiRyn",
        "colab_type": "code",
        "colab": {}
      },
      "source": [
        "df_cleaned_car_spec['Gears'] = df_cleaned_car_spec['Gears'].apply(lambda x: int(x.split('-')[0]))"
      ],
      "execution_count": 0,
      "outputs": []
    },
    {
      "cell_type": "code",
      "metadata": {
        "id": "si9-ORe2iP7M",
        "colab_type": "code",
        "colab": {}
      },
      "source": [
        "df_cleaned_car_spec['Transmission'] = df_cleaned_car_spec['Transmission'].apply(lambda x: 1 if (\"automatic\" in str(x)) else 0)"
      ],
      "execution_count": 0,
      "outputs": []
    },
    {
      "cell_type": "code",
      "metadata": {
        "id": "wTcZ62p6jikp",
        "colab_type": "code",
        "colab": {
          "base_uri": "https://localhost:8080/",
          "height": 270
        },
        "outputId": "27c0e95f-4eca-4341-f39e-01d9d3adc394"
      },
      "source": [
        "df_cleaned_car_spec.head(1)"
      ],
      "execution_count": 194,
      "outputs": [
        {
          "output_type": "execute_result",
          "data": {
            "text/html": [
              "<div>\n",
              "<style scoped>\n",
              "    .dataframe tbody tr th:only-of-type {\n",
              "        vertical-align: middle;\n",
              "    }\n",
              "\n",
              "    .dataframe tbody tr th {\n",
              "        vertical-align: top;\n",
              "    }\n",
              "\n",
              "    .dataframe thead th {\n",
              "        text-align: right;\n",
              "    }\n",
              "</style>\n",
              "<table border=\"1\" class=\"dataframe\">\n",
              "  <thead>\n",
              "    <tr style=\"text-align: right;\">\n",
              "      <th></th>\n",
              "      <th>Car</th>\n",
              "      <th>MRSP</th>\n",
              "      <th>Drivetrain</th>\n",
              "      <th>Passenger Capacity</th>\n",
              "      <th>Passenger Doors</th>\n",
              "      <th>Body Style</th>\n",
              "      <th>Transmission</th>\n",
              "      <th>Base Curb Weight (lbs)</th>\n",
              "      <th>Front Hip Room (in)</th>\n",
              "      <th>Front Leg Room (in)</th>\n",
              "      <th>Second Shoulder Room (in)</th>\n",
              "      <th>Passenger Volume (ft³)</th>\n",
              "      <th>Second Head Room (in)</th>\n",
              "      <th>Front Shoulder Room (in)</th>\n",
              "      <th>Second Hip Room (in)</th>\n",
              "      <th>Front Head Room (in)</th>\n",
              "      <th>Second Leg Room (in)</th>\n",
              "      <th>Wheelbase (in)</th>\n",
              "      <th>Min Ground Clearance (in)</th>\n",
              "      <th>Track Width, Front (in)</th>\n",
              "      <th>Width, Max w/o mirrors (in)</th>\n",
              "      <th>Track Width, Rear (in)</th>\n",
              "      <th>Height, Overall (in)</th>\n",
              "      <th>Fuel Tank Capacity, Approx (gal)</th>\n",
              "      <th>Fuel Economy Est-Combined (MPG)</th>\n",
              "      <th>EPA Fuel Economy Est - City (MPG)</th>\n",
              "      <th>EPA Fuel Economy Est - Hwy (MPG)</th>\n",
              "      <th>SAE Net Torque @ RPM</th>\n",
              "      <th>Fuel System</th>\n",
              "      <th>Engine Type</th>\n",
              "      <th>SAE Net Horsepower @ RPM</th>\n",
              "      <th>Displacement</th>\n",
              "      <th>First Gear Ratio (:1)</th>\n",
              "      <th>Sixth Gear Ratio (:1)</th>\n",
              "      <th>Trans Description Cont.</th>\n",
              "      <th>Fourth Gear Ratio (:1)</th>\n",
              "      <th>Second Gear Ratio (:1)</th>\n",
              "      <th>Reverse Ratio (:1)</th>\n",
              "      <th>Fifth Gear Ratio (:1)</th>\n",
              "      <th>Trans Type</th>\n",
              "      <th>Third Gear Ratio (:1)</th>\n",
              "      <th>Final Drive Axle Ratio (:1)</th>\n",
              "      <th>Brake Type</th>\n",
              "      <th>Rear Brake Rotor Diam x Thickness (in)</th>\n",
              "      <th>Disc - Rear (Yes or   )</th>\n",
              "      <th>Brake ABS System</th>\n",
              "      <th>Front Brake Rotor Diam x Thickness (in)</th>\n",
              "      <th>Disc - Front (Yes or   )</th>\n",
              "      <th>Steering Type</th>\n",
              "      <th>Turning Diameter - Curb to Curb (ft)</th>\n",
              "      <th>Spare Tire Size</th>\n",
              "      <th>Front Tire Size</th>\n",
              "      <th>Rear Tire Size</th>\n",
              "      <th>Front Wheel Size (in)</th>\n",
              "      <th>Spare Wheel Material</th>\n",
              "      <th>Front Wheel Material</th>\n",
              "      <th>Rear Wheel Size (in)</th>\n",
              "      <th>Rear Wheel Material</th>\n",
              "      <th>Spare Wheel Size (in)</th>\n",
              "      <th>Suspension Type - Front</th>\n",
              "      <th>Suspension Type - Rear</th>\n",
              "      <th>Air Bag-Frontal-Driver</th>\n",
              "      <th>Air Bag-Frontal-Passenger</th>\n",
              "      <th>Air Bag-Passenger Switch (On/Off)</th>\n",
              "      <th>Air Bag-Side Body-Front</th>\n",
              "      <th>Air Bag-Side Body-Rear</th>\n",
              "      <th>Air Bag-Side Head-Front</th>\n",
              "      <th>Air Bag-Side Head-Rear</th>\n",
              "      <th>Brakes-ABS</th>\n",
              "      <th>Child Safety Rear Door Locks</th>\n",
              "      <th>Daytime Running Lights</th>\n",
              "      <th>Traction Control</th>\n",
              "      <th>Night Vision</th>\n",
              "      <th>Rollover Protection Bars</th>\n",
              "      <th>Fog Lamps</th>\n",
              "      <th>Parking Aid</th>\n",
              "      <th>Tire Pressure Monitor</th>\n",
              "      <th>Back-Up Camera</th>\n",
              "      <th>Stability Control</th>\n",
              "      <th>Other Features</th>\n",
              "      <th>Basic Miles/km</th>\n",
              "      <th>Basic Years</th>\n",
              "      <th>Corrosion Miles/km</th>\n",
              "      <th>Corrosion Years</th>\n",
              "      <th>Drivetrain Miles/km</th>\n",
              "      <th>Drivetrain Years</th>\n",
              "      <th>Roadside Assistance Miles/km</th>\n",
              "      <th>Roadside Assistance Years</th>\n",
              "      <th>Maximum Alternator Capacity (amps)</th>\n",
              "      <th>Cold Cranking Amps @ 0° F (Primary)</th>\n",
              "      <th>Wt Distributing Hitch - Max Tongue Wt. (lbs)</th>\n",
              "      <th>Dead Weight Hitch - Max Tongue Wt. (lbs)</th>\n",
              "      <th>Wt Distributing Hitch - Max Trailer Wt. (lbs)</th>\n",
              "      <th>Dead Weight Hitch - Max Trailer Wt. (lbs)</th>\n",
              "      <th>Length, Overall (in)</th>\n",
              "      <th>Turning Diameter - Wall to Wall (ft)</th>\n",
              "      <th>Shock Absorber Diameter - Front (mm)</th>\n",
              "      <th>Shock Absorber Diameter - Rear (mm)</th>\n",
              "      <th>Stabilizer Bar Diameter - Front (in)</th>\n",
              "      <th>Total Cooling System Capacity (qts)</th>\n",
              "      <th>City Mileage</th>\n",
              "      <th>Highway Mileage</th>\n",
              "      <th>Engine Fuel Type</th>\n",
              "      <th>Engine Displacement</th>\n",
              "      <th>Gears</th>\n",
              "    </tr>\n",
              "  </thead>\n",
              "  <tbody>\n",
              "    <tr>\n",
              "      <th>1</th>\n",
              "      <td>2019 Acura RDX Specs: FWD w/Technology Pkg</td>\n",
              "      <td>40600.0</td>\n",
              "      <td>0</td>\n",
              "      <td>5</td>\n",
              "      <td>4</td>\n",
              "      <td>Sport Utility</td>\n",
              "      <td>0</td>\n",
              "      <td>3790.0</td>\n",
              "      <td>55.0</td>\n",
              "      <td>41.6</td>\n",
              "      <td>56.6</td>\n",
              "      <td>104.0</td>\n",
              "      <td>38.3</td>\n",
              "      <td>59.7</td>\n",
              "      <td>49.9</td>\n",
              "      <td>39.6</td>\n",
              "      <td>38.4</td>\n",
              "      <td>108.3</td>\n",
              "      <td>5.7</td>\n",
              "      <td>64.2</td>\n",
              "      <td>74.8</td>\n",
              "      <td>64.7</td>\n",
              "      <td>65.7</td>\n",
              "      <td>17.1</td>\n",
              "      <td>24</td>\n",
              "      <td>22</td>\n",
              "      <td>28</td>\n",
              "      <td>280 @ 1600</td>\n",
              "      <td>Gasoline Direct Injection</td>\n",
              "      <td>Turbo Premium Unleaded I-4</td>\n",
              "      <td>272 @ 6500</td>\n",
              "      <td>2.0 L/122</td>\n",
              "      <td>5.25</td>\n",
              "      <td>1.00</td>\n",
              "      <td>Automatic w/OD</td>\n",
              "      <td>1.60</td>\n",
              "      <td>3.27</td>\n",
              "      <td>3.97</td>\n",
              "      <td>1.30</td>\n",
              "      <td>10</td>\n",
              "      <td>2.19</td>\n",
              "      <td>4.17</td>\n",
              "      <td>4-Wheel Disc</td>\n",
              "      <td>12.2</td>\n",
              "      <td>Yes</td>\n",
              "      <td>4-Wheel</td>\n",
              "      <td>12.4</td>\n",
              "      <td>Yes</td>\n",
              "      <td>Rack-Pinion</td>\n",
              "      <td>39</td>\n",
              "      <td>NaN</td>\n",
              "      <td>P235/55HR19</td>\n",
              "      <td>P235/55HR19</td>\n",
              "      <td>19 X 8</td>\n",
              "      <td>NaN</td>\n",
              "      <td>Aluminum</td>\n",
              "      <td>19 X 8</td>\n",
              "      <td>Aluminum</td>\n",
              "      <td>NaN</td>\n",
              "      <td>Strut</td>\n",
              "      <td>Multi-Link</td>\n",
              "      <td>Yes</td>\n",
              "      <td>Yes</td>\n",
              "      <td>No</td>\n",
              "      <td>Yes</td>\n",
              "      <td>No</td>\n",
              "      <td>Yes</td>\n",
              "      <td>Yes</td>\n",
              "      <td>Yes</td>\n",
              "      <td>Yes</td>\n",
              "      <td>Yes</td>\n",
              "      <td>Yes</td>\n",
              "      <td>No</td>\n",
              "      <td>No</td>\n",
              "      <td>No</td>\n",
              "      <td>Yes</td>\n",
              "      <td>Yes</td>\n",
              "      <td>Yes</td>\n",
              "      <td>Yes</td>\n",
              "      <td>Vehicle Stability Assist Electronic Stability ...</td>\n",
              "      <td>50,000</td>\n",
              "      <td>4</td>\n",
              "      <td>Unlimited</td>\n",
              "      <td>5</td>\n",
              "      <td>70,000</td>\n",
              "      <td>6</td>\n",
              "      <td>50,000</td>\n",
              "      <td>4</td>\n",
              "      <td>NaN</td>\n",
              "      <td>NaN</td>\n",
              "      <td>NaN</td>\n",
              "      <td>NaN</td>\n",
              "      <td>NaN</td>\n",
              "      <td>NaN</td>\n",
              "      <td>NaN</td>\n",
              "      <td>NaN</td>\n",
              "      <td>NaN</td>\n",
              "      <td>NaN</td>\n",
              "      <td>NaN</td>\n",
              "      <td>NaN</td>\n",
              "      <td>22.0</td>\n",
              "      <td>28.0</td>\n",
              "      <td>Turbo Premium Unleaded I-4</td>\n",
              "      <td>2.0</td>\n",
              "      <td>0</td>\n",
              "    </tr>\n",
              "  </tbody>\n",
              "</table>\n",
              "</div>"
            ],
            "text/plain": [
              "0                                         Car     MRSP  Drivetrain  \\\n",
              "1  2019 Acura RDX Specs: FWD w/Technology Pkg  40600.0           0   \n",
              "\n",
              "0  Passenger Capacity  Passenger Doors     Body Style  Transmission  \\\n",
              "1                   5                4  Sport Utility             0   \n",
              "\n",
              "0  Base Curb Weight (lbs)  Front Hip Room (in)  Front Leg Room (in)  \\\n",
              "1                  3790.0                 55.0                 41.6   \n",
              "\n",
              "0  Second Shoulder Room (in)  Passenger Volume (ft³)  Second Head Room (in)  \\\n",
              "1                       56.6                   104.0                   38.3   \n",
              "\n",
              "0  Front Shoulder Room (in)  Second Hip Room (in)  Front Head Room (in)  \\\n",
              "1                      59.7                  49.9                  39.6   \n",
              "\n",
              "0  Second Leg Room (in) Wheelbase (in) Min Ground Clearance (in)  \\\n",
              "1                  38.4          108.3                       5.7   \n",
              "\n",
              "0 Track Width, Front (in) Width, Max w/o mirrors (in) Track Width, Rear (in)  \\\n",
              "1                    64.2                        74.8                   64.7   \n",
              "\n",
              "0 Height, Overall (in) Fuel Tank Capacity, Approx (gal)  \\\n",
              "1                 65.7                             17.1   \n",
              "\n",
              "0 Fuel Economy Est-Combined (MPG) EPA Fuel Economy Est - City (MPG)  \\\n",
              "1                              24                                22   \n",
              "\n",
              "0 EPA Fuel Economy Est - Hwy (MPG) SAE Net Torque @ RPM  \\\n",
              "1                               28           280 @ 1600   \n",
              "\n",
              "0                Fuel System                 Engine Type  \\\n",
              "1  Gasoline Direct Injection  Turbo Premium Unleaded I-4   \n",
              "\n",
              "0 SAE Net Horsepower @ RPM Displacement First Gear Ratio (:1)  \\\n",
              "1               272 @ 6500    2.0 L/122                  5.25   \n",
              "\n",
              "0 Sixth Gear Ratio (:1) Trans Description Cont. Fourth Gear Ratio (:1)  \\\n",
              "1                  1.00          Automatic w/OD                   1.60   \n",
              "\n",
              "0 Second Gear Ratio (:1) Reverse Ratio (:1) Fifth Gear Ratio (:1) Trans Type  \\\n",
              "1                   3.27               3.97                  1.30         10   \n",
              "\n",
              "0 Third Gear Ratio (:1) Final Drive Axle Ratio (:1)    Brake Type  \\\n",
              "1                  2.19                        4.17  4-Wheel Disc   \n",
              "\n",
              "0 Rear Brake Rotor Diam x Thickness (in) Disc - Rear (Yes or   )  \\\n",
              "1                                   12.2                     Yes   \n",
              "\n",
              "0 Brake ABS System Front Brake Rotor Diam x Thickness (in)  \\\n",
              "1          4-Wheel                                    12.4   \n",
              "\n",
              "0 Disc - Front (Yes or   ) Steering Type Turning Diameter - Curb to Curb (ft)  \\\n",
              "1                      Yes   Rack-Pinion                                   39   \n",
              "\n",
              "0 Spare Tire Size Front Tire Size Rear Tire Size Front Wheel Size (in)  \\\n",
              "1             NaN     P235/55HR19    P235/55HR19                19 X 8   \n",
              "\n",
              "0 Spare Wheel Material Front Wheel Material Rear Wheel Size (in)  \\\n",
              "1                  NaN             Aluminum               19 X 8   \n",
              "\n",
              "0 Rear Wheel Material Spare Wheel Size (in) Suspension Type - Front  \\\n",
              "1            Aluminum                   NaN                   Strut   \n",
              "\n",
              "0 Suspension Type - Rear Air Bag-Frontal-Driver Air Bag-Frontal-Passenger  \\\n",
              "1             Multi-Link                    Yes                       Yes   \n",
              "\n",
              "0 Air Bag-Passenger Switch (On/Off) Air Bag-Side Body-Front  \\\n",
              "1                                No                     Yes   \n",
              "\n",
              "0 Air Bag-Side Body-Rear Air Bag-Side Head-Front Air Bag-Side Head-Rear  \\\n",
              "1                     No                     Yes                    Yes   \n",
              "\n",
              "0 Brakes-ABS Child Safety Rear Door Locks Daytime Running Lights  \\\n",
              "1        Yes                          Yes                    Yes   \n",
              "\n",
              "0 Traction Control Night Vision Rollover Protection Bars Fog Lamps  \\\n",
              "1              Yes           No                       No        No   \n",
              "\n",
              "0 Parking Aid Tire Pressure Monitor Back-Up Camera Stability Control  \\\n",
              "1         Yes                   Yes            Yes               Yes   \n",
              "\n",
              "0                                     Other Features Basic Miles/km  \\\n",
              "1  Vehicle Stability Assist Electronic Stability ...         50,000   \n",
              "\n",
              "0 Basic Years Corrosion Miles/km Corrosion Years Drivetrain Miles/km  \\\n",
              "1           4          Unlimited               5              70,000   \n",
              "\n",
              "0 Drivetrain Years Roadside Assistance Miles/km Roadside Assistance Years  \\\n",
              "1                6                       50,000                         4   \n",
              "\n",
              "0 Maximum Alternator Capacity (amps) Cold Cranking Amps @ 0° F (Primary)  \\\n",
              "1                                NaN                                 NaN   \n",
              "\n",
              "0 Wt Distributing Hitch - Max Tongue Wt. (lbs)  \\\n",
              "1                                          NaN   \n",
              "\n",
              "0 Dead Weight Hitch - Max Tongue Wt. (lbs)  \\\n",
              "1                                      NaN   \n",
              "\n",
              "0 Wt Distributing Hitch - Max Trailer Wt. (lbs)  \\\n",
              "1                                           NaN   \n",
              "\n",
              "0 Dead Weight Hitch - Max Trailer Wt. (lbs) Length, Overall (in)  \\\n",
              "1                                       NaN                  NaN   \n",
              "\n",
              "0 Turning Diameter - Wall to Wall (ft) Shock Absorber Diameter - Front (mm)  \\\n",
              "1                                  NaN                                  NaN   \n",
              "\n",
              "0 Shock Absorber Diameter - Rear (mm) Stabilizer Bar Diameter - Front (in)  \\\n",
              "1                                 NaN                                  NaN   \n",
              "\n",
              "0 Total Cooling System Capacity (qts)  City Mileage  Highway Mileage  \\\n",
              "1                                 NaN          22.0             28.0   \n",
              "\n",
              "0            Engine Fuel Type  Engine Displacement  Gears  \n",
              "1  Turbo Premium Unleaded I-4                  2.0      0  "
            ]
          },
          "metadata": {
            "tags": []
          },
          "execution_count": 194
        }
      ]
    },
    {
      "cell_type": "code",
      "metadata": {
        "id": "Nl7ZQ9GriNzr",
        "colab_type": "code",
        "colab": {}
      },
      "source": [
        "df_cleaned_car_spec['EPA Classification'] = df_cleaned_car_spec['EPA Classification'].str.replace(' ', '')\n",
        "df_cleaned_car_spec['EPA Classification'] = df_cleaned_car_spec['EPA Classification'].str.replace('-', '')"
      ],
      "execution_count": 0,
      "outputs": []
    },
    {
      "cell_type": "code",
      "metadata": {
        "id": "Yv45jo1uj4iz",
        "colab_type": "code",
        "colab": {}
      },
      "source": [
        "df_cleaned_car_spec['EPA Classification'] = df_cleaned_car_spec['EPA Classification'].apply(lambda x: 'na' if (x is None or float) else String(x).lower())"
      ],
      "execution_count": 0,
      "outputs": []
    },
    {
      "cell_type": "code",
      "metadata": {
        "id": "8Jvj6PsFjzDd",
        "colab_type": "code",
        "colab": {}
      },
      "source": [
        "cols = ['Fuel Tank Capacity, Approx (gal)']\n",
        "for col in cols:\n",
        "  df_cleaned_car_spec[col] = df_cleaned_car_spec[col].apply(lambda v: tryconvert(v, float))\n",
        "  print(df_cleaned_car_spec[col].isna().value_counts())"
      ],
      "execution_count": 0,
      "outputs": []
    },
    {
      "cell_type": "code",
      "metadata": {
        "id": "wQ6Xzc92mkWn",
        "colab_type": "code",
        "colab": {}
      },
      "source": [
        "storeDf[ col + ' Float'] = storeDf[col].apply(lambda v: tryconvert(v, float))"
      ],
      "execution_count": 0,
      "outputs": []
    },
    {
      "cell_type": "code",
      "metadata": {
        "id": "iXQ8RYVCmqRW",
        "colab_type": "code",
        "colab": {}
      },
      "source": [
        "def tryconvert(v, default):\n",
        "  if v is None:\n",
        "    return None\n",
        "  try:\n",
        "    return float(v)\n",
        "  except ValueError:\n",
        "    return None"
      ],
      "execution_count": 0,
      "outputs": []
    },
    {
      "cell_type": "code",
      "metadata": {
        "id": "-TmWxiXxlpb-",
        "colab_type": "code",
        "colab": {}
      },
      "source": [
        "list(df_cleaned_car_spec.columns.values)"
      ],
      "execution_count": 0,
      "outputs": []
    },
    {
      "cell_type": "code",
      "metadata": {
        "id": "rHPqmpTRlqh1",
        "colab_type": "code",
        "colab": {}
      },
      "source": [
        "df_cleaned_car_spec.dtypes"
      ],
      "execution_count": 0,
      "outputs": []
    },
    {
      "cell_type": "code",
      "metadata": {
        "id": "zVLSghGvnwh7",
        "colab_type": "code",
        "colab": {}
      },
      "source": [
        "df_cleaned_car_spec['Body Style'] = df_cleaned_car_spec['Body Style'].apply(lambda v: tryconvert(v, str))"
      ],
      "execution_count": 0,
      "outputs": []
    },
    {
      "cell_type": "code",
      "metadata": {
        "id": "A9DX7XbZo2kw",
        "colab_type": "code",
        "colab": {}
      },
      "source": [
        "cols = ['Height, Overall (in)',\n",
        "'Base Curb Weight (lbs)','Front Hip Room (in)','Front Leg Room (in)','Length, Overall (in)',\n",
        "'Second Head Room (in)','Front Shoulder Room (in)',\n",
        "'Front Head Room (in)','Second Leg Room (in)','Track Width, Front (in)','Track Width, Rear (in)','Second Shoulder Room (in)','Second Hip Room (in)'   ]\n",
        "#for col in cols:\n",
        "del df_cleaned_car_spec['Passenger Volume (ft³)']"
      ],
      "execution_count": 0,
      "outputs": []
    },
    {
      "cell_type": "code",
      "metadata": {
        "id": "Sa4YgIbSqjKw",
        "colab_type": "code",
        "colab": {}
      },
      "source": [
        "transmission = []    \n",
        "for values in df_cleaned_car_spec['SAE Net Horsepower @ RPM']:\n",
        "  res = re.search(\"[0-9]* @\", values)\n",
        "  if res is None:\n",
        "    transmission.append(None)\n",
        "  if res is not None:\n",
        "    transmission.append(res.group())"
      ],
      "execution_count": 0,
      "outputs": []
    },
    {
      "cell_type": "code",
      "metadata": {
        "id": "kATfiFZOrAMN",
        "colab_type": "code",
        "colab": {}
      },
      "source": [
        "df_cleaned_car_spec['Horsepower'] = transmission"
      ],
      "execution_count": 0,
      "outputs": []
    },
    {
      "cell_type": "code",
      "metadata": {
        "id": "SPd95mIirF4Z",
        "colab_type": "code",
        "colab": {}
      },
      "source": [
        "df_cleaned_car_spec['Horsepower'] = df_cleaned_car_spec['Horsepower'].str.replace('@', '')\n",
        "df_cleaned_car_spec['Horsepower'] = df_cleaned_car_spec['Horsepower'].str.replace(' ', '')\n",
        "df_cleaned_car_spec['Horsepower'].value_counts()"
      ],
      "execution_count": 0,
      "outputs": []
    },
    {
      "cell_type": "code",
      "metadata": {
        "id": "18JNW1ZdrG7-",
        "colab_type": "code",
        "colab": {}
      },
      "source": [
        "df_cleaned_car_spec['Secondary Make'] = df_cleaned_car_spec['Secondary Make'].apply(lambda v: tryconvert(v, str))"
      ],
      "execution_count": 0,
      "outputs": []
    },
    {
      "cell_type": "code",
      "metadata": {
        "id": "Uk4RZfoOrqsE",
        "colab_type": "code",
        "colab": {}
      },
      "source": [
        "cols = [\n",
        " 'Child Safety Rear Door Locks',\n",
        " 'Daytime Running Lights',\n",
        " 'Traction Control',\n",
        " 'Rollover Protection Bars',\n",
        " 'Fog Lamps',\n",
        " 'Parking Aid',\n",
        " 'Tire Pressure Monitor',\n",
        " 'Back-Up Camera',\n",
        " 'Stability Control'\n",
        "]\n",
        "for col in cols:\n",
        "  \n",
        "  df_cleaned_car_spec[col] = df_cleaned_car_spec[col].apply(lambda x: 1 if (x == 'Yes') else 0)\n",
        "  print(df_cleaned_car_spec[col].value_counts())"
      ],
      "execution_count": 0,
      "outputs": []
    },
    {
      "cell_type": "code",
      "metadata": {
        "id": "O-rbEUdBr3Ph",
        "colab_type": "code",
        "colab": {}
      },
      "source": [
        "df_cleaned_car_spec['Length, Overall (in)'] = df_cleaned_car_spec['Length, Overall (in)'].apply(lambda v: tryconvert(v, float))"
      ],
      "execution_count": 0,
      "outputs": []
    },
    {
      "cell_type": "code",
      "metadata": {
        "id": "vmsaaaC8xnke",
        "colab_type": "code",
        "colab": {}
      },
      "source": [
        "# Corrosion Years                      object\n",
        "# Drivetrain Miles/km                  object\n",
        "# Drivetrain Years                     object\n",
        "# Roadside Assistance Miles/km         object\n",
        "# Roadside Assistance Years \n",
        "\n",
        "#labelEncoder = preprocessing.LabelEncoder()\n",
        "\n",
        "col = 'Engine Fuel Type'\n",
        "df_cleaned_car_spec[col] = df_cleaned_car_spec[col].apply(lambda x: 'na' if (x is None) else str(x).lower())\n",
        "df_cleaned_car_spec[col] = df_cleaned_car_spec[col].str.replace(' ', '')\n",
        "df_cleaned_car_spec[col] = df_cleaned_car_spec[col].str.replace(',', '')"
      ],
      "execution_count": 0,
      "outputs": []
    },
    {
      "cell_type": "code",
      "metadata": {
        "id": "B4Wvtpzt4u3-",
        "colab_type": "code",
        "colab": {}
      },
      "source": [
        "col = 'Main Make'\n",
        "labelEncoder = preprocessing.LabelEncoder()\n",
        "value = list(df_cleaned_car_spec[col].values.astype(str))\n",
        "labelEncoder.fit(value)\n",
        "df_cleaned_car_spec[col] = labelEncoder.transform(df_cleaned_car_spec[col].astype(str))"
      ],
      "execution_count": 0,
      "outputs": []
    },
    {
      "cell_type": "code",
      "metadata": {
        "id": "i1kqcsXE4y63",
        "colab_type": "code",
        "colab": {}
      },
      "source": [
        "df_cleaned_car_spec[col].value_counts()"
      ],
      "execution_count": 0,
      "outputs": []
    },
    {
      "cell_type": "code",
      "metadata": {
        "id": "jY7XC-tA0YDi",
        "colab_type": "code",
        "colab": {}
      },
      "source": [
        "breakMap = {'Pwr' : 0, '4-Wheel Disc' : 1, 'Power' : 0,'Pwr-Assisted' : 0,'Front Disc/Rear Drum' : 2, 'Hydraulic': 3,\n",
        "'Pwr Regenerative' : 0, 'Pwr w/Hydroboost' : 0, '- TBD -' : 0,'Pwr-assisted' : 0, 'Pwr Assisted' : 0,\n",
        "'Vacuum-assisted' : 4, 'pwr' : 0, 'Pwr Rack & Pinion' : 0}\n",
        "df_cleaned_car_spec['Brake Type'] = df_cleaned_car_spec['Brake Type'].apply(lambda x: breakMap[x])"
      ],
      "execution_count": 0,
      "outputs": []
    },
    {
      "cell_type": "code",
      "metadata": {
        "id": "PoyTzKXX1s2H",
        "colab_type": "code",
        "colab": {}
      },
      "source": [
        "\n",
        "absMap = {'4wheel' : 0, 'nan' : 1, 'fourwheel' : 0,'4channel' : 2,'yes' : 0, 'rearwheel': 3,\n",
        "'4wheel,4channel' : 4, 'tbd' : 1}\n",
        "df_cleaned_car_spec['Brake ABS System'] = df_cleaned_car_spec['Brake ABS System'].apply(lambda x: absMap[x])"
      ],
      "execution_count": 0,
      "outputs": []
    },
    {
      "cell_type": "code",
      "metadata": {
        "id": "Xf-X8y2z4gT_",
        "colab_type": "code",
        "colab": {}
      },
      "source": [
        "df_cleaned_car_spec['Make'].value_counts()"
      ],
      "execution_count": 0,
      "outputs": []
    },
    {
      "cell_type": "code",
      "metadata": {
        "id": "kumQQ9XY4i36",
        "colab_type": "code",
        "colab": {}
      },
      "source": [
        "year = []    \n",
        "for values in df_cleaned_car_spec['Car']:\n",
        "  res = re.search(\"^[0-9]{4}\", values)\n",
        "  if res is None:\n",
        "    year.append('2012')\n",
        "  if res is not None:\n",
        "    year.append(res.group())"
      ],
      "execution_count": 0,
      "outputs": []
    },
    {
      "cell_type": "code",
      "metadata": {
        "id": "h1xMxeEs-7Gy",
        "colab_type": "code",
        "colab": {}
      },
      "source": [
        "df_cleaned_car_spec['Year'] = year"
      ],
      "execution_count": 0,
      "outputs": []
    },
    {
      "cell_type": "code",
      "metadata": {
        "id": "nHycn7Uu_IhH",
        "colab_type": "code",
        "colab": {}
      },
      "source": [
        "df_cleaned_car_spec['Year'] = df_cleaned_car_spec['Year'].astype(int)"
      ],
      "execution_count": 0,
      "outputs": []
    },
    {
      "cell_type": "code",
      "metadata": {
        "id": "KWl_Q31Q_aKc",
        "colab_type": "code",
        "colab": {}
      },
      "source": [
        "df_cleaned_car_spec['Make'] = df_cleaned_car_spec['Car'].apply(lambda x: x.split('Specs')[0])"
      ],
      "execution_count": 0,
      "outputs": []
    },
    {
      "cell_type": "code",
      "metadata": {
        "id": "6mHfqb2h_uPR",
        "colab_type": "code",
        "colab": {}
      },
      "source": [
        "df_cleaned_car_spec[df_cleaned_car_spec['Car'].str.contains('2008 Ford F-150')]['Car']"
      ],
      "execution_count": 0,
      "outputs": []
    },
    {
      "cell_type": "code",
      "metadata": {
        "id": "Vg3TBxFc_4s5",
        "colab_type": "code",
        "colab": {}
      },
      "source": [
        "df_cleaned_car_spec['Secondary Make'] = df_cleaned_car_spec['Make'].apply(lambda x: ' '.join(x.split(' ')[2:]))"
      ],
      "execution_count": 0,
      "outputs": []
    },
    {
      "cell_type": "code",
      "metadata": {
        "id": "uNBm2S8aCInF",
        "colab_type": "code",
        "colab": {
          "base_uri": "https://localhost:8080/",
          "height": 748
        },
        "outputId": "34c709fe-25cd-4df4-f771-1dfe2bf1bd92"
      },
      "source": [
        "round(df_cleaned_car_spec.isna().mean()*100,2).sort_values()"
      ],
      "execution_count": 549,
      "outputs": [
        {
          "output_type": "execute_result",
          "data": {
            "text/plain": [
              "0\n",
              "MRSP                                0.0\n",
              "Stability Control                   0.0\n",
              "Basic Miles/km                      0.0\n",
              "Basic Years                         0.0\n",
              "Corrosion Miles/km                  0.0\n",
              "Corrosion Years                     0.0\n",
              "Drivetrain Miles/km                 0.0\n",
              "Drivetrain Years                    0.0\n",
              "Roadside Assistance Miles/km        0.0\n",
              "Roadside Assistance Years           0.0\n",
              "City Mileage                        0.0\n",
              "Highway Mileage                     0.0\n",
              "Engine Fuel Type                    0.0\n",
              "Engine Displacement                 0.0\n",
              "Gears                               0.0\n",
              "torque                              0.0\n",
              "Horsepower                          0.0\n",
              "Year                                0.0\n",
              "Back-Up Camera                      0.0\n",
              "Make                                0.0\n",
              "Tire Pressure Monitor               0.0\n",
              "Fog Lamps                           0.0\n",
              "Drivetrain                          0.0\n",
              "Passenger Capacity                  0.0\n",
              "Passenger Doors                     0.0\n",
              "Transmission                        0.0\n",
              "Fuel Tank Capacity, Approx (gal)    0.0\n",
              "Engine Type                         0.0\n",
              "Brake Type                          0.0\n",
              "Brake ABS System                    0.0\n",
              "Spare Wheel Material                0.0\n",
              "Front Wheel Material                0.0\n",
              "Rear Wheel Material                 0.0\n",
              "Suspension Type - Front             0.0\n",
              "Suspension Type - Rear              0.0\n",
              "Child Safety Rear Door Locks        0.0\n",
              "Daytime Running Lights              0.0\n",
              "Traction Control                    0.0\n",
              "Rollover Protection Bars            0.0\n",
              "Parking Aid                         0.0\n",
              "Main Make                           0.0\n",
              "dtype: float64"
            ]
          },
          "metadata": {
            "tags": []
          },
          "execution_count": 549
        }
      ]
    },
    {
      "cell_type": "code",
      "metadata": {
        "id": "sZXfxUnCCnTV",
        "colab_type": "code",
        "colab": {
          "base_uri": "https://localhost:8080/",
          "height": 221
        },
        "outputId": "5b8d0f8c-7817-4257-82fb-f2c20e55771a"
      },
      "source": [
        "col = 'Passenger Volume (ft³)'\n",
        "mode_v=df_cleaned_car_spec[col].mode()\n",
        "print(mode_v)\n",
        "mean_v=df_cleaned_car_spec[col].mean()\n",
        "print(mean_v)\n",
        "df_cleaned_car_spec[col].describe()"
      ],
      "execution_count": 537,
      "outputs": [
        {
          "output_type": "stream",
          "text": [
            "0    93.0\n",
            "dtype: float64\n",
            "100.52994549646819\n"
          ],
          "name": "stdout"
        },
        {
          "output_type": "execute_result",
          "data": {
            "text/plain": [
              "count    14311.000000\n",
              "mean       100.529945\n",
              "std         22.466705\n",
              "min         42.400000\n",
              "25%         90.700000\n",
              "50%         97.400000\n",
              "75%        104.200000\n",
              "max        188.400000\n",
              "Name: Passenger Volume (ft³), dtype: float64"
            ]
          },
          "metadata": {
            "tags": []
          },
          "execution_count": 537
        }
      ]
    },
    {
      "cell_type": "code",
      "metadata": {
        "id": "Wisw62tiEWFl",
        "colab_type": "code",
        "colab": {}
      },
      "source": [
        "df_cleaned_car_spec['Passenger Volume (ft³)'].fillna(df_cleaned_car_spec['Passenger Volume (ft³)'].mode())"
      ],
      "execution_count": 0,
      "outputs": []
    },
    {
      "cell_type": "code",
      "metadata": {
        "id": "J3Lmc09EDQmw",
        "colab_type": "code",
        "colab": {
          "base_uri": "https://localhost:8080/",
          "height": 68
        },
        "outputId": "ae7436b9-83bb-4995-b8ad-f92bb858f606"
      },
      "source": [
        "df_cleaned_car_spec[col].isna().value_counts()"
      ],
      "execution_count": 546,
      "outputs": [
        {
          "output_type": "execute_result",
          "data": {
            "text/plain": [
              "False    14311\n",
              "True      9811\n",
              "Name: Passenger Volume (ft³), dtype: int64"
            ]
          },
          "metadata": {
            "tags": []
          },
          "execution_count": 546
        }
      ]
    },
    {
      "cell_type": "code",
      "metadata": {
        "id": "BiKRvoYtDTGz",
        "colab_type": "code",
        "colab": {}
      },
      "source": [
        "df_cleaned_car_spec = df_cleaned_car_spec.dropna(axis=0, subset=['torque'])"
      ],
      "execution_count": 0,
      "outputs": []
    },
    {
      "cell_type": "code",
      "metadata": {
        "id": "dtpju81jJb6W",
        "colab_type": "code",
        "colab": {
          "base_uri": "https://localhost:8080/",
          "height": 34
        },
        "outputId": "53a7ee79-3735-439f-b342-0b338caa9ea8"
      },
      "source": [
        "df_cleaned_car_spec.shape"
      ],
      "execution_count": 551,
      "outputs": [
        {
          "output_type": "execute_result",
          "data": {
            "text/plain": [
              "(24122, 41)"
            ]
          },
          "metadata": {
            "tags": []
          },
          "execution_count": 551
        }
      ]
    },
    {
      "cell_type": "code",
      "metadata": {
        "id": "_I65Qh4tJflx",
        "colab_type": "code",
        "colab": {}
      },
      "source": [
        "df_cleaned_car_spec.to_csv('cleaned.csv')"
      ],
      "execution_count": 0,
      "outputs": []
    },
    {
      "cell_type": "code",
      "metadata": {
        "id": "env1V0yqJdcK",
        "colab_type": "code",
        "colab": {}
      },
      "source": [
        ""
      ],
      "execution_count": 0,
      "outputs": []
    }
  ]
}